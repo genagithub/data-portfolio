{
 "cells": [
  {
   "cell_type": "markdown",
   "metadata": {},
   "source": [
    "#### Regresión lineal \n",
    "El dataset en cuestión es 'advertising_and_sales' que contiene los ingresos obtenidos de ventas junto con tres variables númericas que indican presupuestos invertidos en diferentes medios de promoción y una variable categórica que describe el nivel de popularidad del o los influencers que participaron en la publicidad. Este ejemplo se basará en desarrollar un modelo lineal que se ajuste a una sola variable independiente con la variable objetivo.\n"
   ]
  },
  {
   "cell_type": "code",
   "execution_count": null,
   "metadata": {},
   "outputs": [],
   "source": [
    "import pandas as pd\n",
    "import numpy as np\n",
    "import matplotlib.pyplot as plt\n",
    "import seaborn as sns\n",
    "from plotly.subplots import make_subplots\n",
    "import plotly.express as px\n",
    "import plotly.graph_objects as go\n",
    "import dash\n",
    "import dash_core_components as dcc\n",
    "import dash_html_components as html\n",
    "from dash.dependencies import Input, Output\n",
    "from scipy.stats import pearsonr, zscore, kurtosis, norm, shapiro\n",
    "from sklearn.linear_model import LinearRegression\n",
    "\n",
    "\n",
    "df = pd.read_csv(\"data/advertising_and_sales.csv\")\n",
    "df.set_index(\"id\", inplace=True)\n",
    "\n",
    "df"
   ]
  },
  {
   "cell_type": "markdown",
   "metadata": {},
   "source": [
    "#### Análisis Descriptivo\n",
    "Si bien definos centrarnos solamente en variables continuas, a continuación se hará una visuliazación y análisis multivariable, relacionando valores y categorías de manera que se obtengan los siguientes resultados:\n",
    "- Los números en ventas varían y se concentran aproximadamente entre 100 y 300 millones\n",
    "- Hay un incremento de los ingresos conforme aumenta el presupuesto de promoción en TV y Radio\n",
    "- Los distintos niveles de popularidad en Influencers no suelen influir en las ingresos"
   ]
  },
  {
   "cell_type": "code",
   "execution_count": null,
   "metadata": {},
   "outputs": [],
   "source": [
    "fig, ax = plt.subplots(1,3, figsize=(20,5))\n",
    "\n",
    "sns.scatterplot(df, x=\"tv\", y=\"sales\", hue=\"influencer\", ax=ax[0])\n",
    "sns.scatterplot(df, x=\"radio\", y=\"sales\", hue=\"influencer\", ax=ax[1])\n",
    "sns.scatterplot(df, x=\"social_media\", y=\"sales\", hue=\"influencer\", ax=ax[2])\n",
    "ax[0].grid(\"on\")\n",
    "ax[1].grid(\"on\")\n",
    "ax[2].grid(\"on\")\n",
    "\n",
    "plt.show()"
   ]
  },
  {
   "cell_type": "markdown",
   "metadata": {},
   "source": [
    "#### Análisis Exploratorio de datos\n",
    "\n",
    "Son un conjunto de métodos que utilizan conceptos estadísticos enfocados en explorar y analizar el comportamiento de los datos donde el objetivo es descubrir patrones, relaciones y estructuras que guíen la implementación de un modelo particular como solución. Algunos puntos clave en un caso de regresión son:\n",
    "\n",
    "Distribución Normal: su presencia en las variables continuas es fundamentalmente requerida para algunos modelos regresores debido a la estructura que genera a la hora de ajustarse a los datos, existen diferentes formas de estimar una distribución de este tipo, como medias y medianas que coinciden, representaciones gráficas con forma simétrica respecto a la media y acampanada con la mayoría de los valores concetrados, sin colas pesadas o nulas(curtosis mesocúritca, cercana a 0).\n",
    "\n",
    "Correlación Lineal: valor estadístico que indica la fuerza y dirección de una asociación lineal entre dos variables númericas, es una de las medidas estadísticas más importantes y una correlación lineal puede llegar a explicar la influecia de una variable independiente sobre una dependiente.\n",
    "\n",
    "Outliers: valores que destacan por su notoria distinción(mayor o menor) a los demás del conjunto. La forma más efectiva de hallar estos últimos es la Regla Empírica, según la cual los datos que se encuentran dentro de 3 desviaciones éstandar con respecto a la media representan el 99.7% de los datos, por lo que podemos concluir con bastante seguridad que los datos cuyos valores Z caen por afuera de este umbral son atípicos, ya que son distintos al 99.7%.\n"
   ]
  },
  {
   "cell_type": "code",
   "execution_count": null,
   "metadata": {},
   "outputs": [],
   "source": [
    "corr, _ = pearsonr(df[\"radio\"], df[\"sales\"])\n",
    "\n",
    "df_zscore = df[[\"tv\",\"sales\"]]\n",
    "\n",
    "df_zscore[\"tv_zscore\"] = zscore(df[\"tv\"]).abs()\n",
    "df_zscore[\"sales_zscore\"] = zscore(df[\"sales\"]).abs()\n",
    "\n",
    "outliers = df_zscore.loc[(df_zscore[\"tv_zscore\"] > 3) | (df_zscore[\"sales_zscore\"] > 3),[\"tv\",\"sales\"]]\n",
    "\n",
    "curtosis_x = kurtosis(df[\"tv\"])\n",
    "curtosis_y = kurtosis(df[\"sales\"])\n",
    "\n",
    "print(\"----------------------------------------------------------\")\n",
    "print(f\"Correlación Pearsonr: {round(corr,2)}\")\n",
    "print(f\"Outliers: {outliers.shape[0]}\")\n",
    "print(f\"Curtosis variable X: {round(curtosis_x,1)} | Curtosis variable Y: {round(curtosis_y,1)}\")\n",
    "print(\"----------------------------------------------------------\")"
   ]
  },
  {
   "cell_type": "markdown",
   "metadata": {},
   "source": [
    "#### Pruebas de normalidad\n",
    "Los métodos estadísticos mencionados anteriormente son ampliamente utilizados y dan una base sólida para diagnosticar, sin embargo, las siguientes pruebas de hipótesis proporcionan una evaluación más precisa y son menos propensas a errores de confirmación\n",
    "\n",
    "Shapiro-Wilk: Se basa en la correlación entre los valores del conjunto y una versión de estos que representan un respectivo de nivel de desviación éstandar, que se denominan valores Z o estandarizados.\n",
    "\n",
    "Kolmogorov-Smirnov: Compara la función de distribución acumulativa(CDF) del conjunto de valores con la de una distribución normal.\n",
    "\n",
    "Ambas pruebas hacen uso del valor P para concluir su hipótesis nula(los datos siguen una distribución normal asimilada) o su hipótesis alternativa(caso contrario) con un valor P muy cercano, igual o menor a 0.05."
   ]
  },
  {
   "cell_type": "code",
   "execution_count": null,
   "metadata": {},
   "outputs": [],
   "source": [
    "df[\"tv_zscore\"] = zscore(df[\"tv\"])\n",
    "df[\"sales_zscore\"] = zscore(df[\"sales\"])\n",
    "\n",
    "cdf_Trip_Distance_km = norm.cdf(df[\"tv\"], df[\"tv\"].mean(), df[\"tv\"].std()) \n",
    "cdf_Trip_Price = norm.cdf(df[\"sales\"], df[\"sales\"].mean(), df[\"sales\"].std()) \n",
    "\n",
    "fig = make_subplots(rows=2, cols=2)\n",
    "\n",
    "fig.add_trace(go.Scatter(x=df[\"tv_zscore\"], y=df[\"tv\"], mode=\"markers\", name=\"Presupuesto en TV\"), row=1,col=1)\n",
    "fig.add_trace(go.Scatter(x=df[\"sales_zscore\"], y=df[\"sales\"], mode=\"markers\", name=\"Ingresos de ventas\"), row=1,col=2)\n",
    "fig.add_trace(go.Scatter(x=df[\"tv\"].values, y=cdf_Trip_Distance_km, mode=\"markers\", name=\"Presupuesto en TV\"), row=2,col=1)\n",
    "fig.add_trace(go.Scatter(x=df[\"sales\"].values, y=cdf_Trip_Price, mode=\"markers\", name=\"Ingresos de ventas\"), row=2,col=2)\n",
    "fig.update_layout(height=600, width=850, title_text=\"Shapiro-wilk & Kolmogorov-smirnov\")\n",
    "\n",
    "_, p_value_var_x = shapiro(df[\"tv\"])\n",
    "_, p_value_var_y = shapiro(df[\"sales\"])\n",
    "\n",
    "fig"
   ]
  },
  {
   "cell_type": "markdown",
   "metadata": {},
   "source": [
    "#### Modelo lineal\n",
    "\n",
    "Luego de haber analizado la relación lineal y distribuciones de ambas variables continuas y obtener resultados como una correlación lineal igual 0.87, distribuciones platicúrticas(más planas que una gaussiana) y nulos valores atípicos se procede a generar el modelo lineal y ponerlo en práctica."
   ]
  },
  {
   "cell_type": "code",
   "execution_count": 110,
   "metadata": {},
   "outputs": [],
   "source": [
    "linear_regression = LinearRegression()\n",
    " \n",
    "var_x = df[\"tv\"].values.reshape((-1,1)) # variable X en la correlación lineal\n",
    "var_y = df[\"sales\"] # variable Y en la correlación lineal\n",
    "\n",
    "linear_regression.fit(var_x, var_y)\n",
    "\n",
    "# regresión de 10 objetos aleatorios\n",
    "\n",
    "objects = df[\"tv\"].sample(n=10).to_numpy().reshape((-1,1))\n",
    "\n",
    "predicts = linear_regression.predict(objects)"
   ]
  },
  {
   "cell_type": "markdown",
   "metadata": {},
   "source": [
    "#### Dashboard que refleja los insigths obtenidos y el ajuste del modelo lineal sobre los datos"
   ]
  },
  {
   "cell_type": "code",
   "execution_count": null,
   "metadata": {},
   "outputs": [],
   "source": [
    "app = dash.Dash(__name__)\n",
    "\n",
    "app.layout = html.Div(id=\"body\",className=\"e2_body\",children=[\n",
    "    html.H1(\"Marketing sobre Ventas\",id=\"title\",className=\"e2_title\"),\n",
    "    html.Div(id=\"dashboard\",className=\"e2_dashboard\",children=[\n",
    "        html.Div(id=\"column-1\",className=\"e2_column_1\",children=[\n",
    "            dcc.Dropdown(id=\"dropdown\",className=\"e2_dropdown\",\n",
    "                        options=[\n",
    "                            {\"label\":\"Presupuesto en TV\",\"value\":\"tv\"},\n",
    "                            {\"label\":\"Ingresos de ventas\",\"value\":\"sales\"}\n",
    "                        ],\n",
    "                        value=\"tv\",\n",
    "                        multi=False,\n",
    "                        clearable=False),\n",
    "            html.Div(className=\"e2_div_graphs\",children=[\n",
    "                dcc.Graph(id=\"graph-1\",className=\"e2_graphs\",figure={}), \n",
    "                dcc.Graph(id=\"graph-2\",className=\"e2_graphs\",figure={})\n",
    "            ])\n",
    "        ]),\n",
    "        html.Div(id=\"column-2\",className=\"e2_column_2\",children=[\n",
    "            html.H2(\"Shapiro-Wilk Valor-P\",id=\"p_values_title\",className=\"e2_p_values_title\"),\n",
    "            html.Div(id=\"p_values\",className=\"e2_stats_div\",children=[\n",
    "                html.Div(id=\"p_value_var_x\",className=\"e2_stats\",children=[html.P(f\"Variable X: {round(p_value_var_x,2)}\",style={\"font-size\":\"1em\"})]),\n",
    "                html.Div(id=\"p_value_var_y\",className=\"e2_stats\",children=[html.P(f\"Variable Y: {round(p_value_var_y,2)}\",style={\"font-size\":\"0.98em\"})])\n",
    "            ]),\n",
    "            html.Div(f\"Correlación lineal: {round(corr,2)}\",className=\"e2_corr\",id=\"corr\"),\n",
    "            dcc.Graph(id=\"graph-3\",className=\"e2_graph_3\",figure={})\n",
    "        ])\n",
    "    ])\n",
    "])\n",
    "\n",
    "@app.callback(\n",
    "    [Output(component_id=\"graph-1\",component_property=\"figure\"),\n",
    "    Output(component_id=\"graph-2\",component_property=\"figure\"),\n",
    "    Output(component_id=\"graph-3\",component_property=\"figure\")],\n",
    "    [Input(component_id=\"dropdown\",component_property=\"value\")]\n",
    ")\n",
    "\n",
    "def update_dash(slct_var):\n",
    "    \n",
    "    mean = df[slct_var].mean()\n",
    "    median = df[slct_var].median()\n",
    "    \n",
    "    extr_list = [0]\n",
    "    \n",
    "    var_title = \"Presupuesto en TV\"\n",
    "    \n",
    "    if slct_var == \"Sales\":\n",
    "        extr_list.append(60)\n",
    "        var_title = \"Ingresos de ventas\"\n",
    "    elif slct_var == \"TV\":\n",
    "        extr_list.append(40)\n",
    "        var_title = \"Presupuesto en TV\"\n",
    "    \n",
    "    histplot = go.Figure(go.Histogram(x=df[slct_var],name=\"Distribución\"))\n",
    "    histplot.add_trace(go.Scatter(x=[mean,mean],y=extr_list,mode=\"lines+markers\",marker_color=\"red\",name=\"Media\"))\n",
    "    histplot.add_trace(go.Scatter(x=[median,median],y=extr_list,mode=\"lines+markers\",marker_color=\"green\",name=\"Mediana\"))\n",
    "    histplot.update_layout(title=\"Histograma\",xaxis_title=var_title)\n",
    "    \n",
    "    boxplot = px.box(df, y=slct_var, points=\"all\", title=\"Gráfico de caja\")\n",
    "    \n",
    "    scatter = go.Figure()\n",
    "    scatter.add_trace(go.Scatter(x=df[\"tv\"],y=df[\"sales\"],mode=\"markers\",marker_color=\"blue\",name=\"Ingrsos de ventas reales\"))\n",
    "    scatter.add_trace(go.Scatter(x=objects.reshape(-1),y=predicts,mode=\"lines+markers\",marker_color=\"red\",name=\"Predicciones\"))\n",
    "    scatter.update_layout(title=\"Regresión Lineal\",xaxis_title=\"Presupuesto en TV\",yaxis_title=\"Ingresos de ventas\")\n",
    "\n",
    "    return histplot, boxplot, scatter\n",
    "\n",
    "if __name__ == \"__main__\":\n",
    "    app.run_server(debug=False)"
   ]
  },
  {
   "cell_type": "markdown",
   "metadata": {},
   "source": [
    "#### Error de bías\n",
    "También denominado sesgo, es la diferencia entre la valores asumidos por el modelo y los valores verdaderos que llega a afectar la dirección de los resultados. Sucede principalmente en algoritmos paramétricos que suponen sobre ciertas estructuras o relaciones en los datos para una mejor interpretación. Alto bías: requiere más suposiciones a la hora de estimar la función objetivo, ejemplos de algoritmos con alto bías: Regresión Lineal, Regresión Logística, Naive Bayes, algoritmos de series temporales.\n",
    "\n",
    "Este ejemplo ilustra como se asume principalmente que el incremento o decremento de una variable influye a otra, se puede observar en el último gráfico del dashboard la dispersión de los datos y como algunos se alejan del patrón lineal, mostrando algunos resultados que obtuvieron un valor similar en cuanto a ganancias de ventas pero habiendo utilizado un menor presupuesto de marketing, este efecto que fue definido en el anterior párrafo tiene la característica de tener un origen predecible y en el problema visto puede deberse a una inversión más participativa y equitativa en la Radio lo que ayudó al éxito financiero de algunos casos. En conclusión, en un caso económico como este un valor correlativo de ese nivel deja en claro una recompensa cuando se realizan promociones en la TV y el hecho de que algunos datos representen ingresos con menores gastos a comparación de otros lleva a conclusiones beneficiosas y una recapacitación a la hora de repartir los gastos en publicidad."
   ]
  }
 ],
 "metadata": {
  "kernelspec": {
   "display_name": "Python 3",
   "language": "python",
   "name": "python3"
  },
  "language_info": {
   "codemirror_mode": {
    "name": "ipython",
    "version": 3
   },
   "file_extension": ".py",
   "mimetype": "text/x-python",
   "name": "python",
   "nbconvert_exporter": "python",
   "pygments_lexer": "ipython3",
   "version": "3.12.2"
  }
 },
 "nbformat": 4,
 "nbformat_minor": 2
}
