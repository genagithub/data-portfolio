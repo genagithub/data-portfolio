{
 "cells": [
  {
   "cell_type": "markdown",
   "metadata": {},
   "source": [
    "#### Series de tiempo\n",
    "\n",
    "Se tratan de un conjunto de observaciones históricas almacenadas de forma secuencial que representan un proceso de cambios en los valores conforme avanza el tiempo, algunos ejemplos de series temporales son el mercado finanziero, el clima o el histórico de ventas en una empresa. La predicción del futuro a partir de indicios es uno de los principales objetivos junto con el análisis descriptivo e inferencial en las series de tiempo, algunos métodos como el ingenuo, la media, la deriva y la media móvil simple se consideran muy básicos y no aportan variabilidad en los resultados. Sin embargo, el aprendizaje automático también se emplea como solución a la hora de querer generar pronósticos efectivos y al igual que en los modelos convencionales se requiere como base extraer infromación valiosa para tomar el caminos correcto."
   ]
  },
  {
   "cell_type": "code",
   "execution_count": null,
   "metadata": {},
   "outputs": [],
   "source": [
    "import pandas as pd\n",
    "from statsmodels.tsa.holtwinters import ExponentialSmoothing\n",
    "from statsmodels.tsa.seasonal import seasonal_decompose\n",
    "from statsmodels.graphics.tsaplots import plot_acf\n",
    "import matplotlib.pyplot as plt\n",
    "import plotly.graph_objects as go\n",
    "import dash\n",
    "import dash_core_components as dcc\n",
    "import dash_html_components as html\n",
    "from dash.dependencies import Output, Input\n",
    "\n",
    "\n",
    "df = pd.read_csv(\"data/bitcoin_usd.csv\")\n",
    "df[\"date\"] = pd.to_datetime(df[\"date\"], format='%Y-%m-%d')\n",
    "df.sort_values(by=\"date\", inplace=True)\n",
    "df"
   ]
  },
  {
   "cell_type": "markdown",
   "metadata": {},
   "source": [
    "#### Análisis Exploratorio de series temporales\n",
    "\n",
    "Nivel: media estadística de la serie.\n",
    "\n",
    "Estacionariedad: componente en series cuyas medidas(nivel y desviación éstandar) no cambian con el tiempo.\n",
    "\n",
    "Tendencia: dirección general y el cambio a largo plazo del nivel de la serie.\n",
    "\n",
    "Estacionalidad: picos y valles que se repiten periódicamente(diarios, semanales, anuales, etc), es decir, siguiendo un patrón.\n",
    "\n",
    "Ruido: al igual que un conjunto de datos convencional, sufren de errores aleatorios e imprecisiones que no tienen un origen concreto."
   ]
  },
  {
   "cell_type": "code",
   "execution_count": null,
   "metadata": {},
   "outputs": [],
   "source": [
    "df.set_index(\"date\", inplace=True)\n",
    "\n",
    "fig, ax = plt.subplots(5,1, figsize=(9,18))\n",
    "\n",
    "def trend(serie, index):\n",
    "    ax[index].plot(df[serie], label=\"Serie temporal\")\n",
    "    ax[index].plot(seasonal_decompose(df[serie], model=\"aditive\").trend, label=\"Tendencia\")\n",
    "    ax[index].set_ylabel(serie)\n",
    "    ax[index].set_xlabel(\"dates\")\n",
    "    ax[index].legend()\n",
    "    ax[index].grid(\"on\")\n",
    "\n",
    "trend(\"volume\", 0)\n",
    "trend(\"open_USD\", 1)\n",
    "trend(\"close_USD\", 2)\n",
    "trend(\"high_USD\", 3)\n",
    "trend(\"low_USD\", 4)\n",
    "\n",
    "plt.subplots_adjust(hspace=0.4)\n",
    "plt.show()"
   ]
  },
  {
   "cell_type": "markdown",
   "metadata": {},
   "source": [
    "#### Observaciones \n",
    "\n",
    "a excepción de la variable 'volume', todas las demás series presentan una tendencia en aumento con el paso del tiempo, sobre todo de forma notable en el último período. También, podemos anular una posible estacionariedad debido al constante cambio en la media y desvación éstandar de la serie, un método utilizado es la prueba de Dickey-Fuller en estas suposiciones pero en este caso es muy visualmente notoria la no unitariedad.\n",
    "\n",
    "______________________________________________________________________________________________________________________________"
   ]
  },
  {
   "cell_type": "markdown",
   "metadata": {},
   "source": [
    "#### Análisis de estacionalidad \n",
    "\n",
    "Autocorrelación: medida que se basa en la correlación lineal entre los valores de una serie temporal en diferentes períodos, es decir, una versión desfasada o con retraso y otra más reciente.\n",
    "\n",
    "Función de autocorrelación: correlograma que visualiza un conjunto de autocorrelaciones con sus respectivos retardos, los incrementos y decrementos conforme avanzan los retardos ayudan a identifincar un patrón estacional en una serie de tiempo"
   ]
  },
  {
   "cell_type": "code",
   "execution_count": null,
   "metadata": {},
   "outputs": [],
   "source": [
    "fig, ax = plt.subplots(5,1, figsize=(20,65))\n",
    "\n",
    "def correlogram(serie, index):\n",
    "    plot_acf(df[serie], lags=df.shape[0] - 400, ax=ax[index])\n",
    "    ax[index].set_title(serie)\n",
    "    ax[index].set_ylabel(\"Autocorrelación\")\n",
    "    ax[index].set_xlabel(\"Retardo(K)\")\n",
    "\n",
    "correlogram(\"volume\", 0)\n",
    "correlogram(\"open_USD\", 1)\n",
    "correlogram(\"close_USD\", 2)\n",
    "correlogram(\"high_USD\", 3)\n",
    "correlogram(\"low_USD\", 4)\n",
    "\n",
    "plt.subplots_adjust(hspace=0.3)\n",
    "plt.show()"
   ]
  },
  {
   "cell_type": "markdown",
   "metadata": {},
   "source": [
    "#### Observaciones \n",
    "Al observar los diferentes corregloramas no podemos asimilar una estacionalidad clara, a su vez los valores negativos denotan cierto ruido o cambios bruscos en algunas partes del progreso. En base a las funciones de autocorrelación, las respectivas series que presentan diferentes avanzes financieros pueden considerarse cíclicas, estas a diferencia de las series temporales con estacionalidad éstandar contienen patrones que se repiten en intervalos de tiempo irregulares o variables, pueden ser causados por factores internos y su duración es más prolongada.\n",
    "\n",
    "______________________________________________________________________________________________________________________________"
   ]
  },
  {
   "cell_type": "markdown",
   "metadata": {},
   "source": [
    "#### Dashboard de forecasting realizado por un modelo adecuado a la serie de tiempo"
   ]
  },
  {
   "cell_type": "code",
   "execution_count": null,
   "metadata": {},
   "outputs": [],
   "source": [
    "df.reset_index(inplace=True)\n",
    "\n",
    "app = dash.Dash(__name__)\n",
    "app.layout =  html.Div(id=\"body\", className=\"e7_body\", children=[\n",
    "    html.H1([\"Forecasting \", html.Span(\"Bitcoin\", className=\"e7_title\", style={\"color\":\"yellow\"})], className=\"e7_title\"),\n",
    "    html.Div(id=\"dropdown_div\", className=\"e7_dropdown_div\", children=[\n",
    "       dcc.Dropdown(id=\"dropdown\", className=\"e7_dropdown\",\n",
    "                        options=[\n",
    "                            {\"label\":\"Vólumen de trading\",\"value\":\"volume\"},\n",
    "                            {\"label\":\"Precio de apertura\",\"value\":\"open_USD\"},\n",
    "                            {\"label\":\"Precio de cierre\",\"value\":\"close_USD\"},\n",
    "                            {\"label\":\"Precio más bajo\",\"value\":\"low_USD\"},\n",
    "                            {\"label\":\"Precio más alto\",\"value\":\"high_USD\"},\n",
    "\n",
    "                        ],\n",
    "                        value=\"volume\",\n",
    "                        multi=False,\n",
    "                        clearable=False) \n",
    "    ]),\n",
    "    dcc.Graph(id=\"forecasting\", figure={}, className=\"e7_graph\")\n",
    "])\n",
    "\n",
    "@app.callback(\n",
    "    Output(component_id=\"forecasting\",component_property=\"figure\"),\n",
    "    [Input(component_id=\"dropdown\",component_property=\"value\")]\n",
    ")\n",
    "\n",
    "def update_graph(slct_var):\n",
    "    \n",
    "    if slct_var == \"volume\":\n",
    "        TES = ExponentialSmoothing(df[slct_var], seasonal=\"add\", seasonal_periods=255)\n",
    "    elif slct_var == \"high_USD\":\n",
    "        TES = ExponentialSmoothing(df[slct_var], trend=\"add\", seasonal=\"add\", seasonal_periods=335)\n",
    "    else:\n",
    "        TES = ExponentialSmoothing(df[slct_var], trend=\"add\", seasonal=\"add\", seasonal_periods=325)\n",
    "    \n",
    "    model = TES.fit()\n",
    "    \n",
    "    new_dates = list(pd.date_range('2021-01-31','2021-03-31'))\n",
    "    forecast = model.forecast(60)\n",
    "    \n",
    "    forecasting = go.Figure()\n",
    "    forecasting.add_trace(go.Scatter(x=df[\"date\"], y=df[slct_var], mode=\"lines\", fill=\"tozeroy\", fillcolor=\"rgba(0, 0, 255, 0.2)\", name=\"Serie temporal\"))\n",
    "    forecasting.add_trace(go.Scatter(x=new_dates, y=forecast, mode=\"lines\", fill=\"tozeroy\", fillcolor=\"rgba(255, 0, 0, 0.2)\", name=\"Pronóstico\"))\n",
    "    forecasting.update_layout(title_text=\"Pronóstico de los próximos 2 meses\")\n",
    "    forecasting.update_yaxes(title_text=slct_var)\n",
    "\n",
    "    return forecasting\n",
    "\n",
    "if __name__ == \"__main__\":\n",
    "    app.run_server(debug=False)"
   ]
  },
  {
   "cell_type": "markdown",
   "metadata": {},
   "source": [
    "#### Suavización Exponencial\n",
    "\n",
    "La técnica implementada basa su método en precisamente suavizar las fluctuaciones de la serie a través de una combinación ponderada de valores anteriores, los parámetros que utiliza son el factor de suavización(Valor Alpha) y el Nivel inicial(0). Dependiendo del comportamiento de la serie el modelo generado a partir de esta técnica puede ir variando y añadiendo más componentes, algunas variaciones son: Suavizado Simple, Tendencia lineal de Holt, Tendencia amortiguada, Estacional Simple o Aditivo de Winters.\n",
    "\n",
    "Suavizado Exponencial Triple o Estacional Simple: modelo apropiado para series de tiempo con tendencia y un efecto estacional que es constante a lo largo del tiempo, sus hiperparámetros correspondientes son el nivel, la tendencia y la estacionalidad, además se debe especificar el intervalo de tiempo en que transcurre el patrón. En este caso, es importante tener en cuenta la complejidad y la volatilidad en el mercado del Bitcoin, cuyas series analizadas han experimentado constantes variaciones y períodos cíclicos, lo que provoca una ajuste de hiperparámetros más complejo en el modelo debido a la dificultad de detectar y capturar la estructura subyacente de la serie."
   ]
  }
 ],
 "metadata": {
  "kernelspec": {
   "display_name": "Python 3",
   "language": "python",
   "name": "python3"
  },
  "language_info": {
   "codemirror_mode": {
    "name": "ipython",
    "version": 3
   },
   "file_extension": ".py",
   "mimetype": "text/x-python",
   "name": "python",
   "nbconvert_exporter": "python",
   "pygments_lexer": "ipython3",
   "version": "3.12.2"
  }
 },
 "nbformat": 4,
 "nbformat_minor": 2
}
