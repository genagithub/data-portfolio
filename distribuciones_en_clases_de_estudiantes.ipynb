{
 "cells": [
  {
   "cell_type": "markdown",
   "metadata": {},
   "source": [
    "#### Distribución de frecuencia \n",
    "Es el agrupamiento de variables que se utiliza para describir la frecuencia de cada una en un conjunto. Pueden calcularse como valores decimales entre 0 y 1, donde cada valor representa su proporción asociada en las observaciones y la probabilidad de que un objeto aleatorio pertenezca a esa categoría."
   ]
  },
  {
   "cell_type": "code",
   "execution_count": null,
   "metadata": {},
   "outputs": [],
   "source": [
    "import pandas as pd\n",
    "import numpy as np\n",
    "import matplotlib.pyplot as plt\n",
    "import dash\n",
    "import dash_core_components as dcc\n",
    "import dash_html_components as html\n",
    "from dash.dependencies import Input, Output\n",
    "import plotly.express as px\n",
    "from sklearn.naive_bayes import GaussianNB\n",
    "from sklearn.ensemble import BaggingClassifier\n",
    "from sklearn.metrics import accuracy_score\n",
    "\n",
    "\n",
    "df = pd.read_csv(\"data/student_performance.csv\")\n",
    "\n",
    "# ignoramos el identificador (StudentID) y la variable objetivo (GradeClass)\n",
    "\n",
    "for c in df.columns[1:-1]:\n",
    "    unique_values = df[c].unique()\n",
    "    if len(unique_values) == 2:\n",
    "        print(f\"Valores únicos en '{c}': {df[c].unique()} (Binario)\\n---------------------------------------------------------------------------------------------------------\")\n",
    "    else:\n",
    "        print(f\"Valores únicos en '{c}': {df[c].unique()}\\n---------------------------------------------------------------------------------------------------------\")"
   ]
  },
  {
   "cell_type": "markdown",
   "metadata": {},
   "source": [
    "#### Dsitribución de frecuencia en categóricas binarias"
   ]
  },
  {
   "cell_type": "code",
   "execution_count": null,
   "metadata": {},
   "outputs": [],
   "source": [
    "def percentage_binary(df, variable, category_1, category_2):\n",
    "    variable_mean = df.groupby(\"GradeClass\")[variable].mean().reset_index(name=f\"{variable}_mean\")\n",
    "    variable_mean[f\"{variable}_mean\"] = variable_mean[f\"{variable}_mean\"] * 100 \n",
    "    for v in variable_mean.values:\n",
    "        percentage = 100 - v[1]\n",
    "        if percentage >= 50:\n",
    "            percentage = percentage.astype(str)\n",
    "            print(f\"En el grado clase {v[0]} el {percentage[:4]}% de los alumnos {category_1}\")\n",
    "        else:\n",
    "            percentage = v[1].astype(str)\n",
    "            print(f\"En el grado clase {v[0]} el {percentage[:4]}% de los alumnos {category_2}\")\n",
    "    print(\"-------------------------------------------------------------------------------------------------------------\")\n",
    "            \n",
    "gender_percentage = percentage_binary(df,\"Gender\",\"son Hombres\",\"son Mujeres\")\n",
    "tutoring_percentage = percentage_binary(df,\"Tutoring\",\"no tiene tutoría\",\"tiene tutoría\")\n",
    "extracurricular_percentage = percentage_binary(df,\"Extracurricular\",\"no participa en actividades extracurriculares\",\"participa actividades extracurriculares\")\n",
    "sports_percentage = percentage_binary(df,\"Sports\",\"no participa en deportes\",\"participa en deportes\")\n",
    "music_percentage = percentage_binary(df,\"Music\",\"no participa en actividades musicales\",\"participa en actividades musicales\")\n",
    "volunteering_percentage = percentage_binary(df,\"Volunteering\",\"no participa en voluntariado\",\"participa en voluntariado\")"
   ]
  },
  {
   "cell_type": "markdown",
   "metadata": {},
   "source": [
    "#### Distribución de frecuencia en variables categóricas (nominales y ordinales)"
   ]
  },
  {
   "cell_type": "code",
   "execution_count": null,
   "metadata": {},
   "outputs": [],
   "source": [
    "def percentage(df, variable, categories):\n",
    "    unique_values = df[\"GradeClass\"].unique()\n",
    "    for g in np.sort(unique_values):\n",
    "        grade_class = df[df[\"GradeClass\"] == g]\n",
    "        variable_count = grade_class[variable].value_counts().reset_index()\n",
    "        variable_count[variable] = categories\n",
    "        print(f\"{variable} en grado clase {g}\")\n",
    "        for p in variable_count.values:\n",
    "            percentage = (p[1] / variable_count[\"count\"].sum()) * 100\n",
    "            percentage = percentage.astype(str)\n",
    "            print(f\"{p[0]}: {percentage[:4]}%\")\n",
    "        print(\"----------------------------------------\")\n",
    "        \n",
    "ethnicity_percentage = percentage(df,\"Ethnicity\",[\"caucásicos\",\"áfricanos\",\"asiáticos\",\"otros\"])\n",
    "parental_education_percentage = percentage(df,\"ParentalEducation\",[\"ninguno\",\"escuela secundaria\",\"un poco de universidad\",\"licenciatura\",\"superior\"]) \n",
    "parental_support_percentage = percentage(df,\"ParentalSupport\",[\"ninguno\",\"bajo\",\"moderado\",\"alto\",\"muy alto\"])"
   ]
  },
  {
   "cell_type": "markdown",
   "metadata": {},
   "source": [
    "#### Bagging \n",
    "es una de las principales técnicas computacionales de estadística inferencial cuya base es utilizar la sabiduría de las masas, es decir, reforzar el aprendizaje mediante el criterio de distintos metaestimadores que se encargarán de sacar sus propias conclusiones de respectivos datos seleccionados para luego, dependiendo del problema en cuestión, llegar a una respuesta final a través de la media o moda del conjunto de resultados.\n",
    "_________________________________________________________________________________________________________"
   ]
  },
  {
   "cell_type": "markdown",
   "metadata": {},
   "source": [
    "#### Naive Bayes \n",
    "Algoritmo de clasificación probabilístico basado en el teorema de Bayes y en la suposición de que las características son condicionalmente independientes entre si dado la clase a la que pertenecen, lo que significa que la probabilidad de una característica no depende de las otras, pero si aportan información sobre la variable objetivo. Además, supone que las variables independientes siguen una distribución específica, permitiendo calcular la probabilidad final de que la variable objetivo este asociada a esa clase. \n",
    "\n",
    "Suposiciones del algoritmo:\n",
    "- Independencia condicional entre las características\n",
    "- Distribuciones conocidas para modelar en las características(normal, binomial, etc.)\n",
    "- No hay correlación entre características\n",
    "- Clases mutuamente excluyentes\n",
    "- No hay ruido en los datos"
   ]
  },
  {
   "cell_type": "code",
   "execution_count": null,
   "metadata": {},
   "outputs": [],
   "source": [
    "# Discretización de la variable continua 'StudyTimeWeekly'\n",
    "Q1 = np.percentile(df[\"StudyTimeWeekly\"], 25)\n",
    "Q2 = np.percentile(df[\"StudyTimeWeekly\"], 50)\n",
    "Q3 = np.percentile(df[\"StudyTimeWeekly\"], 75)\n",
    "Q4 = np.percentile(df[\"StudyTimeWeekly\"], 100)\n",
    "\n",
    "df[\"StudyTimeWeekly\"] = np.where(df[\"StudyTimeWeekly\"] <= Q1, Q1, \n",
    "                        np.where((df[\"StudyTimeWeekly\"] > Q1) & (df[\"StudyTimeWeekly\"] <= Q2), Q2, \n",
    "                        np.where((df[\"StudyTimeWeekly\"] > Q2) & (df[\"StudyTimeWeekly\"] <= Q3), Q3, \n",
    "                        df[\"StudyTimeWeekly\"])))\n",
    "\n",
    "df[\"StudyTimeWeekly\"] = round(df[\"StudyTimeWeekly\"])\n",
    "\n",
    "#------------------------------------------------------------------------------------------------------\n",
    "naive_bayes = GaussianNB()\n",
    "\n",
    "bagging_model = BaggingClassifier(estimator=naive_bayes, # clasificador base\n",
    "                        n_estimators=100, # cantidad de estimadores\n",
    "                        max_samples=0.3,# número de muestras requeridas para cada modelo\n",
    "                        oob_score=True) # se usan como datos de prueba aquellos que no fueron seleccionados\n",
    "\n",
    "var_x = df[df.columns[1:-1]]\n",
    "var_y = df[\"GradeClass\"]\n",
    "\n",
    "bagging_model.fit(var_x, var_y) \n",
    "print(f\"Accuracy mean: {bagging_model.oob_score_}\")"
   ]
  },
  {
   "cell_type": "code",
   "execution_count": null,
   "metadata": {},
   "outputs": [],
   "source": [
    "object = np.array([])\n",
    "\n",
    "def create_object(array, df):\n",
    "    for var in df.columns[1:-1]:\n",
    "        random_value = np.random.choice(df[var].unique())\n",
    "        array = np.append(array, random_value)\n",
    "    \n",
    "    return array\n",
    "\n",
    "object = create_object(object, df)\n",
    "\n",
    "estimators_predicts = [estimator.predict(object.reshape(1,13)) for estimator in bagging_model.estimators_]\n",
    "\n",
    "estimators_predicts_array = np.array(estimators_predicts).reshape(-1)\n",
    "\n",
    "count_estimators_predicts = np.unique(estimators_predicts_array, return_counts=True)\n",
    "\n",
    "plt.figure(figsize=(14,5))\n",
    "plt.bar(count_estimators_predicts[0], count_estimators_predicts[1])\n",
    "plt.title(\"Conteo de predicciones de los estimadores(100)\")\n",
    "plt.xlabel(\"Respuestas asociadas\")\n",
    "plt.ylabel(\"Conteo de clases\")\n",
    "plt.show()"
   ]
  },
  {
   "cell_type": "markdown",
   "metadata": {},
   "source": [
    "#### Dashboard que refleja la distribución de categorías nominales y ordinales\n"
   ]
  },
  {
   "cell_type": "code",
   "execution_count": null,
   "metadata": {},
   "outputs": [],
   "source": [
    "app = dash.Dash(__name__)\n",
    "\n",
    "app.layout = html.Div(id=\"body\",className=\"e6_body\",children=[\n",
    "    html.H1(\"Categorías de estudiantes\",id=\"title\",className=\"e6_title\"),\n",
    "    html.Div(id=\"div\",className=\"e6_div\",children=[\n",
    "        html.Div(id=\"div_dropdown\",className=\"e6_div_dropdown\",children=[\n",
    "            dcc.Dropdown(id=\"dropdown_1\",className=\"e6_dropdown\",\n",
    "                        options = [\n",
    "                            {\"label\":\"Grado clase 0\",\"value\":0},\n",
    "                            {\"label\":\"Grado clase 1\",\"value\":1},\n",
    "                            {\"label\":\"Grado clase 2\",\"value\":2},\n",
    "                            {\"label\":\"Grado clase 3\",\"value\":3},\n",
    "                            {\"label\":\"Grado clase 4\",\"value\":4},\n",
    "                        ],\n",
    "                        value=0,\n",
    "                        multi=False,\n",
    "                        clearable=False),\n",
    "            dcc.Dropdown(id=\"dropdown_2\",className=\"e6_dropdown\",\n",
    "                        options = [\n",
    "                            {\"label\":\"Género\",\"value\":\"Gender\"},\n",
    "                            {\"label\":\"Tutoría\",\"value\":\"Tutoring\"},\n",
    "                            {\"label\":\"Actividades extracurriculares\",\"value\":\"Extracurricular\"},\n",
    "                            {\"label\":\"Deportes\",\"value\":\"Sports\"},\n",
    "                            {\"label\":\"Música\",\"value\":\"Music\"},\n",
    "                            {\"label\":\"Voluntariado\",\"value\":\"Volunteering\"},\n",
    "                            {\"label\":\"Etnia\",\"value\":\"Ethnicity\"},\n",
    "                            {\"label\":\"Educación paternal\",\"value\":\"ParentalEducation\"},\n",
    "                            {\"label\":\"Apoyo paternal\",\"value\":\"ParentalSupport\"},\n",
    "                        ],\n",
    "                        value=\"Gender\",\n",
    "                        multi=False,\n",
    "                        clearable=False)\n",
    "        ])\n",
    "    ]),\n",
    "    dcc.Graph(id=\"graph\",className=\"e6_graph\",figure={})\n",
    "])\n",
    "\n",
    "@app.callback(\n",
    "    Output(component_id=\"graph\",component_property=\"figure\"),\n",
    "    [Input(component_id=\"dropdown_1\",component_property=\"value\"),\n",
    "    Input(component_id=\"dropdown_2\",component_property=\"value\")]\n",
    ")\n",
    "\n",
    "def update_graph(slct_var_obj,slct_var_car):\n",
    "    \n",
    "    grade_class = df[df[\"GradeClass\"] == slct_var_obj]\n",
    "    variable_count = grade_class[slct_var_car].value_counts().reset_index()\n",
    "    variable_count.sort_values(slct_var_car, inplace=True)\n",
    "        \n",
    "    if slct_var_car == \"Gender\":\n",
    "        variable_count[slct_var_car] = [\"Hombre\",\"Mujer\"]\n",
    "    elif slct_var_car == \"Tutoring\":\n",
    "        variable_count[slct_var_car] = [\"Sin tutoría\",\"Tutoría\"]\n",
    "    elif slct_var_car == \"Extracurricular\":\n",
    "        variable_count[slct_var_car] = [\"No participa en actividades extracurriculares\",\"Participa en actividades extracurriculares\"]\n",
    "    elif slct_var_car == \"Sports\":\n",
    "        variable_count[slct_var_car] = [\"No participa en deportes\",\"Participa en deportes\"]\n",
    "    elif slct_var_car == \"Music\":\n",
    "        variable_count[slct_var_car] = [\"No participa en actividades musicales\",\"Participa en actividades musicales\"]\n",
    "    elif slct_var_car == \"Volunteering\":\n",
    "        variable_count[slct_var_car] = [\"No participa en voluntariado\",\"Participa en voluntariado\"]\n",
    "    elif slct_var_car == \"Ethnicity\":\n",
    "        variable_count[slct_var_car] = [\"caucásicos\",\"áfricanos\",\"asiáticos\",\"otros\"]\n",
    "    elif slct_var_car == \"ParentalEducation\":\n",
    "        variable_count[slct_var_car] = [\"ninguno\",\"escuela secundaria\",\"un poco de universidad\",\"licenciatura\",\"superior\"]\n",
    "    elif slct_var_car == \"ParentalSupport\":\n",
    "        variable_count[slct_var_car] = [\"ninguno\",\"bajo\",\"moderado\",\"alto\",\"muy alto\"]\n",
    "    \n",
    "    piechart = px.pie(variable_count, values=\"count\", names=slct_var_car, title=f\"Distribución de {slct_var_car} en Grado Clase {slct_var_obj}\")\n",
    "\n",
    "    return piechart\n",
    "\n",
    "if __name__ == \"__main__\":\n",
    "    app.run_server(debug=False)"
   ]
  },
  {
   "cell_type": "markdown",
   "metadata": {},
   "source": [
    "#### Automatización de Toma de Decisiones\n",
    "Siendo una de los principales desarrollos de DS y cuyo objetivo es ayudar a ahorrar tiempo y recursos, reducir errores humanos y mejorar la eficiencia. En este proyecto no solo se elaboraron informes que explican como están distribuidas las propiedades de los alumnos de diferentes clases de grado, sino que también se ha realizado automatización de tareas mediante un modelo predictivo que, basándose en los distinto datos conocidos, es capaz de asignar a un nuevo alumno su clase de grado correspondiente, en un presunto caso ahorrándole este trabajo a la organización encargada de gestionar esta cuestión."
   ]
  }
 ],
 "metadata": {
  "kernelspec": {
   "display_name": "Python 3",
   "language": "python",
   "name": "python3"
  },
  "language_info": {
   "codemirror_mode": {
    "name": "ipython",
    "version": 3
   },
   "file_extension": ".py",
   "mimetype": "text/x-python",
   "name": "python",
   "nbconvert_exporter": "python",
   "pygments_lexer": "ipython3",
   "version": "3.12.2"
  }
 },
 "nbformat": 4,
 "nbformat_minor": 2
}
