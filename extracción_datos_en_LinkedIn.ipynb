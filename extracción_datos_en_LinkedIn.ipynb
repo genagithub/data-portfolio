{
 "cells": [
  {
   "cell_type": "markdown",
   "metadata": {},
   "source": [
    "#### Web Scraping \n",
    "Es un método de extracción de datos que se basa en el proceso de recopilar y extraer datos provenientes de sitios web como texto, imágenes y enlaces mediante simulaciones de navegación web."
   ]
  },
  {
   "cell_type": "code",
   "execution_count": null,
   "metadata": {},
   "outputs": [],
   "source": [
    "from selenium import webdriver\n",
    "from selenium.webdriver.common.by import By\n",
    "from selenium.webdriver.common.keys import Keys\n",
    "from selenium.webdriver.support.ui import WebDriverWait\n",
    "from selenium.webdriver.support import expected_conditions as EC\n",
    "from selenium.common.exceptions import ElementNotInteractableException\n",
    "import pandas as pd\n",
    "import numpy as np\n",
    "import plotly.express as px\n",
    "import dash\n",
    "import dash_core_components as dcc\n",
    "import dash_html_components as html\n",
    "from dash.dependencies import Input, Output"
   ]
  },
  {
   "cell_type": "markdown",
   "metadata": {},
   "source": [
    "#### Ofertas de empleo sobre ciencia de datos sin experiencia y del último mes"
   ]
  },
  {
   "cell_type": "code",
   "execution_count": null,
   "metadata": {},
   "outputs": [],
   "source": [
    "option = webdriver.ChromeOptions()\n",
    "option.add_argument(\"--window-size=1300,700\")\n",
    "\n",
    "driver = webdriver.Chrome(options=option)\n",
    "    \n",
    "try: \n",
    "    driver.get(\"https://www.linkedin.com\")\n",
    "    \n",
    "    job_search = WebDriverWait(driver, 10).until(EC.presence_of_element_located(\n",
    "        (By.XPATH, '//a[@href=\"https://www.linkedin.com/jobs/search?trk=guest_homepage-basic_guest_nav_menu_jobs\"]'))\n",
    "    )\n",
    "    job_search.click()\n",
    "    \n",
    "    button_quit = WebDriverWait(driver, 10).until(EC.presence_of_element_located(\n",
    "        (By.XPATH, '//icon[@class=\"contextual-sign-in-modal__modal-dismiss-icon lazy-loaded\" and @aria-hidden=\"true\" and @aria-busy=\"false\"]'))\n",
    "    )\n",
    "    button_quit.click()   \n",
    "    \n",
    "    input_workstation = driver.find_element(By.XPATH, '//input[@aria-controls=\"job-search-bar-keywords-typeahead-list\"]')\n",
    "    input_workstation.send_keys(\"Ciencia de datos\")\n",
    "    input_location = driver.find_element(By.XPATH, '//input[@aria-controls=\"job-search-bar-location-typeahead-list\"]')\n",
    "    input_location.clear()\n",
    "    input_location.send_keys(\"Argentina\")\n",
    "    input_location.send_keys(Keys.RETURN)       \n",
    "    \n",
    "    driver.find_element(By.XPATH, '//button[@aria-label=\"Filtro «Fecha de publicación». Se ha aplicado el filtro «Cualquier momento». Al hacer clic en este botón, se muestran todas las opciones del filtro «Fecha de publicación».\"]').click()                   \n",
    "except ElementNotInteractableException: \n",
    "    button_quit = WebDriverWait(driver, 10).until(EC.presence_of_element_located(\n",
    "        (By.XPATH, '//icon[@class=\"contextual-sign-in-modal__modal-dismiss-icon lazy-loaded\" and @aria-hidden=\"true\" and @aria-busy=\"false\"]'))\n",
    "    )\n",
    "    button_quit.click() \n",
    "    \n",
    "    driver.find_element(By.XPATH, '//button[@aria-label=\"Filtro «Fecha de publicación». Se ha aplicado el filtro «Cualquier momento». Al hacer clic en este botón, se muestran todas las opciones del filtro «Fecha de publicación».\"]').click()\n",
    "finally:    \n",
    "    driver.find_element(By.XPATH, '//input[@id=\"f_TPR-1\"]').click()\n",
    "    driver.find_element(By.CLASS_NAME, 'filter__submit-button').click()\n",
    "    \n",
    "    workstation = driver.find_elements(By.CLASS_NAME, 'base-search-card__title')\n",
    "    company = driver.find_elements(By.CLASS_NAME, 'hidden-nested-link')\n",
    "    location = driver.find_elements(By.CLASS_NAME, 'job-search-card__location')\n",
    "    time = driver.find_elements(By.CLASS_NAME, 'job-search-card__listdate')\n",
    "    \n",
    "    offers = driver.find_elements(By.XPATH, '//div[@class=\"base-card relative w-full hover:no-underline focus:no-underline base-card--link base-search-card base-search-card--link job-search-card job-search-card--active\"]')\n",
    "\n",
    "data = {\n",
    "    \"workstation\": [],\n",
    "    \"company\": [],\n",
    "    \"location\": [],\n",
    "    \"time\": []\n",
    "}\n",
    "\n",
    "len_col = np.array([len(workstation),len(location),len(company),len(time)])\n",
    "min_len_col = len_col.min()\n",
    "\n",
    "def data_org(data, column, element):\n",
    "    for e in element:\n",
    "        data[column].append(e.text)\n",
    "        if len(data[column]) == min_len_col:\n",
    "            break\n",
    "    return data\n",
    "\n",
    "data_org(data, \"workstation\", workstation)\n",
    "data_org(data, \"company\", company)\n",
    "data_org(data, \"location\", location)\n",
    "data_org(data, \"time\", time)\n",
    "\n",
    "df = pd.DataFrame(data)\n",
    "df"
   ]
  },
  {
   "cell_type": "markdown",
   "metadata": {},
   "source": [
    "#### Estudios si o no\n",
    "una vez obtenidas la ofertas de empleo, indagamos sobre ellas y descubrimos si contienen estudios universitarios como requisito"
   ]
  },
  {
   "cell_type": "code",
   "execution_count": null,
   "metadata": {},
   "outputs": [],
   "source": [
    "studies = []\n",
    "words_key = (\"Estudiante\",\"Licenciatura\",\"Carrera\",\"Ingeniería\",\"Maestría\")\n",
    "\n",
    "for o in offers:\n",
    "    link = o.find_element(By.XPATH, '//a[@class=\"base-card__full-link absolute top-0 right-0 bottom-0 left-0 p-0 z-[2]\"]').get_attribute(\"href\")\n",
    "    driver.get(link)\n",
    "    \n",
    "    button_quit = WebDriverWait(driver, 10).until(EC.presence_of_element_located(\n",
    "        (By.XPATH, '//icon[@class=\"contextual-sign-in-modal__modal-dismiss-icon lazy-loaded\" and @aria-hidden=\"true\" and @aria-busy=\"false\"]'))\n",
    "    )\n",
    "    button_quit.click() \n",
    "    \n",
    "    driver.find_element(By.XPATH, '//icon[@class=\"show-more-less-html__button-icon show-more-less-button-icon lazy-loaded\"]').click()\n",
    "    \n",
    "    info = driver.find_element(By.XPATH, '//div[@class=\"show-more-less-html__markup relative overflow-hidden\"]')\n",
    "    requests = info.find_elements(By.TAG_NAME, 'p')\n",
    "    \n",
    "    for r in requests:\n",
    "        if any(w in r.text for w in words_key):\n",
    "            studies.append(\"estudios universitarios requeridos\")\n",
    "        else:\n",
    "            studies.append(\"estudios universitarios no requeridos\")\n",
    "            \n",
    "    driver.quit()\n",
    "            \n",
    "df[\"studies\"] = studies"
   ]
  },
  {
   "cell_type": "markdown",
   "metadata": {},
   "source": [
    "#### Data Wrangling \n",
    "Es el proceso de limpiar, estructurar y transformar los datos disponibles con el fin de trabajar posteriormente con datos de alta calidad, bien organizados y con relevancia. Esta técnica se ha empleado en la mayoría de los proyectos anteriores si haber sido definida explicitamente y representa la mayor parte del trabajo de un científico de datos."
   ]
  },
  {
   "cell_type": "code",
   "execution_count": null,
   "metadata": {},
   "outputs": [],
   "source": [
    "print(df[\"location\"].value_counts())\n",
    "\n",
    "# Mapeo de datos\n",
    "# dado que muchas ubicaciones son similares y sobreinforman, las reemplazamos y resumimos la iformación\n",
    "\n",
    "data_mapping = {\n",
    "    \"Ciudad Autónoma de Buenos Aires, Provincia de Buenos Aires, Argentina\": \"Ciudad Autónoma de Buenos Aires\",\n",
    "    \"Buenos Aires, Provincia de Buenos Aires, Argentina\": \"Provincia de Buenos Aires\",\n",
    "    \"Buenos Aires y alrededores\": \"Provincia de Buenos Aires\"\n",
    "}\n",
    "\n",
    "df[\"location\"] = df[\"location\"].apply(lambda x : data_mapping.get(x, x))\n",
    "print(\"---------------------------------------------------------------------------\")\n",
    "print(df[\"location\"].value_counts())"
   ]
  },
  {
   "cell_type": "markdown",
   "metadata": {},
   "source": [
    "#### Dashboard que revela la ubicación y requisitos de estudios de las ofertas"
   ]
  },
  {
   "cell_type": "code",
   "execution_count": null,
   "metadata": {},
   "outputs": [],
   "source": [
    "app = dash.Dash(__name__)\n",
    "\n",
    "app.layout = html.Div(id=\"body\",className=\"e8_body\",children=[\n",
    "    html.H1(\"Ofertas de trabajo en Linkedin\", className=\"e8_title\"),\n",
    "        dcc.Dropdown(id=\"dropdown\",className=\"e8_dropdown\",\n",
    "                    options = [\n",
    "                        {\"label\":\"Ubiación(Provincia, Comuna, Barrio)\",\"value\":\"location\"},\n",
    "                        {\"label\":\"Estudios universitarios\",\"value\":\"studies\"},\n",
    "                    ],\n",
    "                    value=\"location\",\n",
    "                    multi=False,\n",
    "                    clearable=False),\n",
    "    html.Div(className=\"e8_div\",children=[\n",
    "        dcc.Graph(id=\"graph_1\",className=\"e8_graph\",figure={}),\n",
    "        dcc.Graph(id=\"graph_2\",className=\"e8_graph\",figure={})\n",
    "    ])\n",
    "])\n",
    "\n",
    "@app.callback(\n",
    "    [Output(component_id=\"graph_1\",component_property=\"figure\"),\n",
    "    Output(component_id=\"graph_2\",component_property=\"figure\")],\n",
    "    [Input(component_id=\"dropdown\",component_property=\"value\")]\n",
    ")\n",
    "\n",
    "def update_graph(slct_var):\n",
    "    values_count = df[slct_var].value_counts().reset_index()\n",
    "    \n",
    "    barplot = px.bar(values_count, x=slct_var, y=\"count\", title='Conteo de variables')\n",
    "    piechart = px.pie(values_count, values='count', names=slct_var, title='Porciones de variables')\n",
    "    piechart.update_layout(legend=dict(font=dict(size=6)))\n",
    "    \n",
    "    if slct_var == \"location\":\n",
    "        barplot.update_layout(xaxis=dict(tickfont=dict(size=7)))\n",
    "    \n",
    "    return barplot, piechart\n",
    "    \n",
    "if __name__ == \"__main__\":\n",
    "    app.run_server(debug=False)"
   ]
  }
 ],
 "metadata": {
  "kernelspec": {
   "display_name": "Python 3",
   "language": "python",
   "name": "python3"
  },
  "language_info": {
   "codemirror_mode": {
    "name": "ipython",
    "version": 3
   },
   "file_extension": ".py",
   "mimetype": "text/x-python",
   "name": "python",
   "nbconvert_exporter": "python",
   "pygments_lexer": "ipython3",
   "version": "3.12.2"
  }
 },
 "nbformat": 4,
 "nbformat_minor": 2
}
